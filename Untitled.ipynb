{
 "cells": [
  {
   "cell_type": "code",
   "execution_count": 1,
   "id": "674a4afe",
   "metadata": {},
   "outputs": [],
   "source": [
    "import pandas as pd\n",
    "import numpy as np\n",
    "import matplotlib.pyplot as plt\n",
    "import seaborn as sns\n",
    "\n"
   ]
  },
  {
   "cell_type": "code",
   "execution_count": 2,
   "id": "c59c371f",
   "metadata": {},
   "outputs": [],
   "source": [
    "data = pd.read_csv(\"ds_salaries.csv\")"
   ]
  },
  {
   "cell_type": "code",
   "execution_count": 3,
   "id": "8734454b",
   "metadata": {},
   "outputs": [
    {
     "data": {
      "text/html": [
       "<div>\n",
       "<style scoped>\n",
       "    .dataframe tbody tr th:only-of-type {\n",
       "        vertical-align: middle;\n",
       "    }\n",
       "\n",
       "    .dataframe tbody tr th {\n",
       "        vertical-align: top;\n",
       "    }\n",
       "\n",
       "    .dataframe thead th {\n",
       "        text-align: right;\n",
       "    }\n",
       "</style>\n",
       "<table border=\"1\" class=\"dataframe\">\n",
       "  <thead>\n",
       "    <tr style=\"text-align: right;\">\n",
       "      <th></th>\n",
       "      <th>Unnamed: 0</th>\n",
       "      <th>work_year</th>\n",
       "      <th>experience_level</th>\n",
       "      <th>employment_type</th>\n",
       "      <th>job_title</th>\n",
       "      <th>salary</th>\n",
       "      <th>salary_currency</th>\n",
       "      <th>salary_in_usd</th>\n",
       "      <th>employee_residence</th>\n",
       "      <th>remote_ratio</th>\n",
       "      <th>company_location</th>\n",
       "      <th>company_size</th>\n",
       "    </tr>\n",
       "  </thead>\n",
       "  <tbody>\n",
       "    <tr>\n",
       "      <th>0</th>\n",
       "      <td>0</td>\n",
       "      <td>2020</td>\n",
       "      <td>MI</td>\n",
       "      <td>FT</td>\n",
       "      <td>Data Scientist</td>\n",
       "      <td>70000</td>\n",
       "      <td>EUR</td>\n",
       "      <td>79833</td>\n",
       "      <td>DE</td>\n",
       "      <td>0</td>\n",
       "      <td>DE</td>\n",
       "      <td>L</td>\n",
       "    </tr>\n",
       "    <tr>\n",
       "      <th>1</th>\n",
       "      <td>1</td>\n",
       "      <td>2020</td>\n",
       "      <td>SE</td>\n",
       "      <td>FT</td>\n",
       "      <td>Machine Learning Scientist</td>\n",
       "      <td>260000</td>\n",
       "      <td>USD</td>\n",
       "      <td>260000</td>\n",
       "      <td>JP</td>\n",
       "      <td>0</td>\n",
       "      <td>JP</td>\n",
       "      <td>S</td>\n",
       "    </tr>\n",
       "    <tr>\n",
       "      <th>2</th>\n",
       "      <td>2</td>\n",
       "      <td>2020</td>\n",
       "      <td>SE</td>\n",
       "      <td>FT</td>\n",
       "      <td>Big Data Engineer</td>\n",
       "      <td>85000</td>\n",
       "      <td>GBP</td>\n",
       "      <td>109024</td>\n",
       "      <td>GB</td>\n",
       "      <td>50</td>\n",
       "      <td>GB</td>\n",
       "      <td>M</td>\n",
       "    </tr>\n",
       "    <tr>\n",
       "      <th>3</th>\n",
       "      <td>3</td>\n",
       "      <td>2020</td>\n",
       "      <td>MI</td>\n",
       "      <td>FT</td>\n",
       "      <td>Product Data Analyst</td>\n",
       "      <td>20000</td>\n",
       "      <td>USD</td>\n",
       "      <td>20000</td>\n",
       "      <td>HN</td>\n",
       "      <td>0</td>\n",
       "      <td>HN</td>\n",
       "      <td>S</td>\n",
       "    </tr>\n",
       "    <tr>\n",
       "      <th>4</th>\n",
       "      <td>4</td>\n",
       "      <td>2020</td>\n",
       "      <td>SE</td>\n",
       "      <td>FT</td>\n",
       "      <td>Machine Learning Engineer</td>\n",
       "      <td>150000</td>\n",
       "      <td>USD</td>\n",
       "      <td>150000</td>\n",
       "      <td>US</td>\n",
       "      <td>50</td>\n",
       "      <td>US</td>\n",
       "      <td>L</td>\n",
       "    </tr>\n",
       "  </tbody>\n",
       "</table>\n",
       "</div>"
      ],
      "text/plain": [
       "   Unnamed: 0  work_year experience_level employment_type  \\\n",
       "0           0       2020               MI              FT   \n",
       "1           1       2020               SE              FT   \n",
       "2           2       2020               SE              FT   \n",
       "3           3       2020               MI              FT   \n",
       "4           4       2020               SE              FT   \n",
       "\n",
       "                    job_title  salary salary_currency  salary_in_usd  \\\n",
       "0              Data Scientist   70000             EUR          79833   \n",
       "1  Machine Learning Scientist  260000             USD         260000   \n",
       "2           Big Data Engineer   85000             GBP         109024   \n",
       "3        Product Data Analyst   20000             USD          20000   \n",
       "4   Machine Learning Engineer  150000             USD         150000   \n",
       "\n",
       "  employee_residence  remote_ratio company_location company_size  \n",
       "0                 DE             0               DE            L  \n",
       "1                 JP             0               JP            S  \n",
       "2                 GB            50               GB            M  \n",
       "3                 HN             0               HN            S  \n",
       "4                 US            50               US            L  "
      ]
     },
     "execution_count": 3,
     "metadata": {},
     "output_type": "execute_result"
    }
   ],
   "source": [
    "data.head()"
   ]
  },
  {
   "cell_type": "code",
   "execution_count": 4,
   "id": "9cc9c915",
   "metadata": {},
   "outputs": [
    {
     "data": {
      "text/plain": [
       "0                  Data Scientist\n",
       "1      Machine Learning Scientist\n",
       "2               Big Data Engineer\n",
       "3            Product Data Analyst\n",
       "4       Machine Learning Engineer\n",
       "                  ...            \n",
       "602                 Data Engineer\n",
       "603                 Data Engineer\n",
       "604                  Data Analyst\n",
       "605                  Data Analyst\n",
       "606                  AI Scientist\n",
       "Name: job_title, Length: 607, dtype: object"
      ]
     },
     "execution_count": 4,
     "metadata": {},
     "output_type": "execute_result"
    }
   ],
   "source": [
    "data[\"job_title\"]"
   ]
  },
  {
   "cell_type": "code",
   "execution_count": 7,
   "id": "5c75e679",
   "metadata": {},
   "outputs": [
    {
     "name": "stdout",
     "output_type": "stream",
     "text": [
      "<pandas.core.groupby.generic.DataFrameGroupBy object at 0x000001865F411E50>\n"
     ]
    }
   ],
   "source": [
    "data.groupby(\"job_title\")\n",
    "print(data.groupby(\"job_title\"))\n"
   ]
  },
  {
   "cell_type": "code",
   "execution_count": 9,
   "id": "c89d51d9",
   "metadata": {},
   "outputs": [
    {
     "data": {
      "text/plain": [
       "job_title\n",
       "3D Computer Vision Researcher                 5409.000000\n",
       "AI Scientist                                 66135.571429\n",
       "Analytics Engineer                          175000.000000\n",
       "Applied Data Scientist                      175655.000000\n",
       "Applied Machine Learning Scientist          142068.750000\n",
       "BI Data Analyst                              74755.166667\n",
       "Big Data Architect                           99703.000000\n",
       "Big Data Engineer                            51974.000000\n",
       "Business Data Analyst                        76691.200000\n",
       "Cloud Data Engineer                         124647.000000\n",
       "Computer Vision Engineer                     44419.333333\n",
       "Computer Vision Software Engineer           105248.666667\n",
       "Data Analyst                                 92893.061856\n",
       "Data Analytics Engineer                      64799.250000\n",
       "Data Analytics Lead                         405000.000000\n",
       "Data Analytics Manager                      127134.285714\n",
       "Data Architect                              177873.909091\n",
       "Data Engineer                               112725.000000\n",
       "Data Engineering Manager                    123227.200000\n",
       "Data Science Consultant                      69420.714286\n",
       "Data Science Engineer                        75803.333333\n",
       "Data Science Manager                        158328.500000\n",
       "Data Scientist                              108187.832168\n",
       "Data Specialist                             165000.000000\n",
       "Director of Data Engineering                156738.000000\n",
       "Director of Data Science                    195074.000000\n",
       "ETL Developer                                54957.000000\n",
       "Finance Data Analyst                         61896.000000\n",
       "Financial Data Analyst                      275000.000000\n",
       "Head of Data                                160162.600000\n",
       "Head of Data Science                        146718.750000\n",
       "Head of Machine Learning                     79039.000000\n",
       "Lead Data Analyst                            92203.000000\n",
       "Lead Data Engineer                          139724.500000\n",
       "Lead Data Scientist                         115190.000000\n",
       "Lead Machine Learning Engineer               87932.000000\n",
       "ML Engineer                                 117504.000000\n",
       "Machine Learning Developer                   85860.666667\n",
       "Machine Learning Engineer                   104880.146341\n",
       "Machine Learning Infrastructure Engineer    101145.000000\n",
       "Machine Learning Manager                    117104.000000\n",
       "Machine Learning Scientist                  158412.500000\n",
       "Marketing Data Analyst                       88654.000000\n",
       "NLP Engineer                                 37236.000000\n",
       "Principal Data Analyst                      122500.000000\n",
       "Principal Data Engineer                     328333.333333\n",
       "Principal Data Scientist                    215242.428571\n",
       "Product Data Analyst                         13036.000000\n",
       "Research Scientist                          109019.500000\n",
       "Staff Data Scientist                        105000.000000\n",
       "Name: salary_in_usd, dtype: float64"
      ]
     },
     "execution_count": 9,
     "metadata": {},
     "output_type": "execute_result"
    }
   ],
   "source": [
    "data.groupby(\"job_title\")[\"salary_in_usd\"].mean()"
   ]
  },
  {
   "cell_type": "code",
   "execution_count": 11,
   "id": "ca73031e",
   "metadata": {},
   "outputs": [],
   "source": [
    "data_RU = data[data['company_location']=='RU']"
   ]
  },
  {
   "cell_type": "code",
   "execution_count": 12,
   "id": "0566cfd6",
   "metadata": {},
   "outputs": [
    {
     "data": {
      "text/plain": [
       "(2, 12)"
      ]
     },
     "execution_count": 12,
     "metadata": {},
     "output_type": "execute_result"
    }
   ],
   "source": [
    "data_RU.shape\n"
   ]
  },
  {
   "cell_type": "code",
   "execution_count": 13,
   "id": "520aade7",
   "metadata": {},
   "outputs": [
    {
     "name": "stdout",
     "output_type": "stream",
     "text": [
      "     Unnamed: 0  work_year experience_level employment_type  \\\n",
      "160         160       2021               EX              FT   \n",
      "161         161       2021               EX              FT   \n",
      "\n",
      "                job_title  salary salary_currency  salary_in_usd  \\\n",
      "160          Head of Data  230000             USD         230000   \n",
      "161  Head of Data Science   85000             USD          85000   \n",
      "\n",
      "    employee_residence  remote_ratio company_location company_size  \n",
      "160                 RU            50               RU            L  \n",
      "161                 RU             0               RU            M  \n"
     ]
    }
   ],
   "source": [
    "print(data_RU)"
   ]
  },
  {
   "cell_type": "code",
   "execution_count": null,
   "id": "0aa38725",
   "metadata": {},
   "outputs": [],
   "source": []
  }
 ],
 "metadata": {
  "kernelspec": {
   "display_name": "Python 3 (ipykernel)",
   "language": "python",
   "name": "python3"
  },
  "language_info": {
   "codemirror_mode": {
    "name": "ipython",
    "version": 3
   },
   "file_extension": ".py",
   "mimetype": "text/x-python",
   "name": "python",
   "nbconvert_exporter": "python",
   "pygments_lexer": "ipython3",
   "version": "3.11.4"
  }
 },
 "nbformat": 4,
 "nbformat_minor": 5
}
